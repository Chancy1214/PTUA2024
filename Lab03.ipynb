{
 "cells": [
  {
   "cell_type": "code",
   "execution_count": null,
   "id": "ce155ee9",
   "metadata": {},
   "outputs": [],
   "source": [
    "# Operators"
   ]
  },
  {
   "cell_type": "code",
   "execution_count": 13,
   "id": "ca1a45f8",
   "metadata": {},
   "outputs": [],
   "source": [
    "## Exercise 1"
   ]
  },
  {
   "cell_type": "code",
   "execution_count": 2,
   "id": "1514d372",
   "metadata": {},
   "outputs": [],
   "source": [
    "n = 42"
   ]
  },
  {
   "cell_type": "code",
   "execution_count": 3,
   "id": "44a2ac73",
   "metadata": {},
   "outputs": [
    {
     "ename": "SyntaxError",
     "evalue": "cannot assign to literal here. Maybe you meant '==' instead of '='? (3090476294.py, line 1)",
     "output_type": "error",
     "traceback": [
      "\u001b[0;36m  Cell \u001b[0;32mIn[3], line 1\u001b[0;36m\u001b[0m\n\u001b[0;31m    42 = n\u001b[0m\n\u001b[0m    ^\u001b[0m\n\u001b[0;31mSyntaxError\u001b[0m\u001b[0;31m:\u001b[0m cannot assign to literal here. Maybe you meant '==' instead of '='?\n"
     ]
    }
   ],
   "source": [
    "42 = n"
   ]
  },
  {
   "cell_type": "code",
   "execution_count": 4,
   "id": "ed95dae7",
   "metadata": {},
   "outputs": [],
   "source": [
    "x = y =1"
   ]
  },
  {
   "cell_type": "code",
   "execution_count": 5,
   "id": "ffd2f697",
   "metadata": {},
   "outputs": [],
   "source": [
    "n = 42;"
   ]
  },
  {
   "cell_type": "code",
   "execution_count": 6,
   "id": "4c591cf6",
   "metadata": {},
   "outputs": [
    {
     "ename": "SyntaxError",
     "evalue": "invalid syntax (2556253988.py, line 1)",
     "output_type": "error",
     "traceback": [
      "\u001b[0;36m  Cell \u001b[0;32mIn[6], line 1\u001b[0;36m\u001b[0m\n\u001b[0;31m    n = 42?\u001b[0m\n\u001b[0m          ^\u001b[0m\n\u001b[0;31mSyntaxError\u001b[0m\u001b[0;31m:\u001b[0m invalid syntax\n"
     ]
    }
   ],
   "source": [
    "n = 42?"
   ]
  },
  {
   "cell_type": "code",
   "execution_count": 11,
   "id": "c8f89620",
   "metadata": {},
   "outputs": [
    {
     "ename": "SyntaxError",
     "evalue": "invalid syntax (2022727080.py, line 1)",
     "output_type": "error",
     "traceback": [
      "\u001b[0;36m  Cell \u001b[0;32mIn[11], line 1\u001b[0;36m\u001b[0m\n\u001b[0;31m    n = 42 .\u001b[0m\n\u001b[0m            ^\u001b[0m\n\u001b[0;31mSyntaxError\u001b[0m\u001b[0;31m:\u001b[0m invalid syntax\n"
     ]
    }
   ],
   "source": [
    "n = 42 ."
   ]
  },
  {
   "cell_type": "code",
   "execution_count": 10,
   "id": "f8921fbb",
   "metadata": {},
   "outputs": [
    {
     "ename": "SyntaxError",
     "evalue": "invalid syntax (1567273689.py, line 1)",
     "output_type": "error",
     "traceback": [
      "\u001b[0;36m  Cell \u001b[0;32mIn[10], line 1\u001b[0;36m\u001b[0m\n\u001b[0;31m    x y\u001b[0m\n\u001b[0m      ^\u001b[0m\n\u001b[0;31mSyntaxError\u001b[0m\u001b[0;31m:\u001b[0m invalid syntax\n"
     ]
    }
   ],
   "source": [
    "x y"
   ]
  },
  {
   "cell_type": "code",
   "execution_count": 12,
   "id": "f8301dad",
   "metadata": {},
   "outputs": [
    {
     "data": {
      "text/plain": [
       "1"
      ]
     },
     "execution_count": 12,
     "metadata": {},
     "output_type": "execute_result"
    }
   ],
   "source": [
    "x*y"
   ]
  },
  {
   "cell_type": "code",
   "execution_count": 14,
   "id": "133ee9bb",
   "metadata": {},
   "outputs": [],
   "source": [
    "## Exercise 2"
   ]
  },
  {
   "cell_type": "code",
   "execution_count": 15,
   "id": "7452b937",
   "metadata": {},
   "outputs": [],
   "source": [
    "### Exercise 2.1"
   ]
  },
  {
   "cell_type": "code",
   "execution_count": 18,
   "id": "d362b757",
   "metadata": {},
   "outputs": [
    {
     "name": "stdout",
     "output_type": "stream",
     "text": [
      "523.5987755982989\n"
     ]
    }
   ],
   "source": [
    "import math\n",
    "\n",
    "r = 5 \n",
    "volume = (4/3) * math.pi * r**3\n",
    "print(volume)"
   ]
  },
  {
   "cell_type": "code",
   "execution_count": 19,
   "id": "8c6571ae",
   "metadata": {},
   "outputs": [],
   "source": [
    "### Exercise 2.2"
   ]
  },
  {
   "cell_type": "code",
   "execution_count": 20,
   "id": "cf4bc8a7",
   "metadata": {},
   "outputs": [
    {
     "name": "stdout",
     "output_type": "stream",
     "text": [
      "945.4499999999999\n"
     ]
    }
   ],
   "source": [
    "cover_price = 24.95\n",
    "\n",
    "discount = 0.4\n",
    "\n",
    "first_copy_shipping = 3\n",
    "\n",
    "additional_copy_shipping = 0.75\n",
    "\n",
    "num_books = 60\n",
    "\n",
    "total_wholesale_cost = (cover_price * (1 - discount) * num_books) + first_copy_shipping + (num_books - 1) * additional_copy_shipping\n",
    "\n",
    "print(total_wholesale_cost)"
   ]
  },
  {
   "cell_type": "code",
   "execution_count": 21,
   "id": "0afe3f24",
   "metadata": {},
   "outputs": [],
   "source": [
    "### Exercise 2.3"
   ]
  },
  {
   "cell_type": "code",
   "execution_count": 22,
   "id": "c4bc525b",
   "metadata": {},
   "outputs": [
    {
     "name": "stdout",
     "output_type": "stream",
     "text": [
      "7 : 30\n"
     ]
    }
   ],
   "source": [
    "start_hour = 6\n",
    "\n",
    "start_minute = 52\n",
    "\n",
    "start_time_minutes = start_hour * 60 + start_minute\n",
    "\n",
    "easy_pace = 8 + 15/60\n",
    "\n",
    "tempo_pace = 7 + 12/60\n",
    "\n",
    "total_run_time = easy_pace + tempo_pace * 3 + easy_pace\n",
    "\n",
    "end_time_minutes = start_time_minutes + total_run_time\n",
    "\n",
    "end_hour = int(end_time_minutes // 60)\n",
    "\n",
    "end_minute = int(end_time_minutes % 60)\n",
    "\n",
    "print(end_hour, ':', end_minute)"
   ]
  },
  {
   "cell_type": "code",
   "execution_count": 23,
   "id": "e2d43c6a",
   "metadata": {},
   "outputs": [],
   "source": [
    "# Strings"
   ]
  },
  {
   "cell_type": "code",
   "execution_count": 24,
   "id": "e241a6e2",
   "metadata": {},
   "outputs": [],
   "source": [
    "## Exercise 2"
   ]
  },
  {
   "cell_type": "code",
   "execution_count": 25,
   "id": "4748fe29",
   "metadata": {},
   "outputs": [
    {
     "name": "stdout",
     "output_type": "stream",
     "text": [
      "3\n"
     ]
    }
   ],
   "source": [
    "word = 'banana'\n",
    "a_count = word.count('a')\n",
    "print(a_count)"
   ]
  },
  {
   "cell_type": "code",
   "execution_count": 26,
   "id": "d1ebe98e",
   "metadata": {},
   "outputs": [],
   "source": [
    "## Exercise 3"
   ]
  },
  {
   "cell_type": "code",
   "execution_count": 40,
   "id": "8c4e63da",
   "metadata": {},
   "outputs": [
    {
     "name": "stdout",
     "output_type": "stream",
     "text": [
      "False\n"
     ]
    }
   ],
   "source": [
    "def is_palindrome(study):\n",
    "    return study == study[::-1]\n",
    "print(is_palindrome(\"study\"))"
   ]
  },
  {
   "cell_type": "code",
   "execution_count": 41,
   "id": "87c7aa08",
   "metadata": {},
   "outputs": [],
   "source": [
    "## Exercise 4"
   ]
  },
  {
   "cell_type": "code",
   "execution_count": 42,
   "id": "8591d84f",
   "metadata": {},
   "outputs": [],
   "source": [
    "###any_lowercase1(s): checks if the first character in the string s is a lowercase letter, and returns True if it is, False otherwise;\n",
    "###any_lowercase2(s): incorrectly returns the string 'True' because it checks for the character 'c' instead of the character in the string s.\n",
    "###any_lowercase3(s): checks if the last character in the string s is a lowercase letter, returning a result that depends on the last character.\n",
    "###any_lowercase4(s): correctly checks to see if there is at least one lowercase letter in string s, and returns True if the first lowercase letter is found.\n",
    "###any_lowercase5(s): checks to see if each character in string s is a lowercase letter, and returns True if all characters are lowercase, otherwise returns False on encountering the first non-lowercase character."
   ]
  },
  {
   "cell_type": "code",
   "execution_count": 43,
   "id": "ee6d76ef",
   "metadata": {},
   "outputs": [],
   "source": [
    "## Exercise 5 "
   ]
  },
  {
   "cell_type": "code",
   "execution_count": 44,
   "id": "52c20280",
   "metadata": {},
   "outputs": [
    {
     "name": "stdout",
     "output_type": "stream",
     "text": [
      "oryh\n"
     ]
    }
   ],
   "source": [
    "def rotate_word(s, n):\n",
    "    result = ''\n",
    "    for char in s:\n",
    "        if 'a' <= char <= 'z':  \n",
    "            start = ord('a')\n",
    "            result += chr((ord(char) - start + n) % 26 + start)\n",
    "        elif 'A' <= char <= 'Z':  \n",
    "            start = ord('A')\n",
    "            result += chr((ord(char) - start + n) % 26 + start)\n",
    "        else:\n",
    "            result += char  \n",
    "    return result\n",
    "\n",
    "print(rotate_word('love', 3)) "
   ]
  },
  {
   "cell_type": "code",
   "execution_count": null,
   "id": "f5eaf6f7",
   "metadata": {},
   "outputs": [],
   "source": []
  }
 ],
 "metadata": {
  "kernelspec": {
   "display_name": "Python 3 (ipykernel)",
   "language": "python",
   "name": "python3"
  },
  "language_info": {
   "codemirror_mode": {
    "name": "ipython",
    "version": 3
   },
   "file_extension": ".py",
   "mimetype": "text/x-python",
   "name": "python",
   "nbconvert_exporter": "python",
   "pygments_lexer": "ipython3",
   "version": "3.11.5"
  }
 },
 "nbformat": 4,
 "nbformat_minor": 5
}
